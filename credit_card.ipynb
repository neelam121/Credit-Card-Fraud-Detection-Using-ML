{
 "cells": [
  {
   "cell_type": "markdown",
   "id": "605204c6",
   "metadata": {},
   "source": [
    "# CREDIT CARD FRAUD DETECTION USING MACHINE LEARNING"
   ]
  },
  {
   "cell_type": "markdown",
   "id": "63943545",
   "metadata": {},
   "source": [
    "Importing the dependencies"
   ]
  },
  {
   "cell_type": "code",
   "execution_count": 1,
   "id": "bf522069",
   "metadata": {},
   "outputs": [],
   "source": [
    "import numpy as np\n",
    "import pandas as pd\n",
    "import warnings\n",
    "warnings.filterwarnings('ignore')\n",
    "from sklearn.model_selection import train_test_split\n",
    "from sklearn.linear_model import LogisticRegression\n",
    "from sklearn.tree import DecisionTreeClassifier\n",
    "from sklearn.metrics import accuracy_score\n",
    "from sklearn.metrics import precision_score\n",
    "from sklearn.metrics import recall_score\n",
    "from sklearn.metrics import f1_score\n",
    "from sklearn.metrics import confusion_matrix\n",
    "from sklearn.ensemble import RandomForestClassifier\n",
    "from sklearn.neighbors import KNeighborsClassifier\n",
    "from sklearn.svm import SVC"
   ]
  },
  {
   "cell_type": "code",
   "execution_count": 2,
   "id": "2dbbd460",
   "metadata": {},
   "outputs": [],
   "source": [
    "#loading the dataset in a pandas dataframe\n",
    "credit_card_data = pd.read_csv('creditcard.csv')"
   ]
  },
  {
   "cell_type": "code",
   "execution_count": 3,
   "id": "95542cce",
   "metadata": {},
   "outputs": [
    {
     "data": {
      "text/html": [
       "<div>\n",
       "<style scoped>\n",
       "    .dataframe tbody tr th:only-of-type {\n",
       "        vertical-align: middle;\n",
       "    }\n",
       "\n",
       "    .dataframe tbody tr th {\n",
       "        vertical-align: top;\n",
       "    }\n",
       "\n",
       "    .dataframe thead th {\n",
       "        text-align: right;\n",
       "    }\n",
       "</style>\n",
       "<table border=\"1\" class=\"dataframe\">\n",
       "  <thead>\n",
       "    <tr style=\"text-align: right;\">\n",
       "      <th></th>\n",
       "      <th>Time</th>\n",
       "      <th>V1</th>\n",
       "      <th>V2</th>\n",
       "      <th>V3</th>\n",
       "      <th>V4</th>\n",
       "      <th>V5</th>\n",
       "      <th>V6</th>\n",
       "      <th>V7</th>\n",
       "      <th>V8</th>\n",
       "      <th>V9</th>\n",
       "      <th>...</th>\n",
       "      <th>V21</th>\n",
       "      <th>V22</th>\n",
       "      <th>V23</th>\n",
       "      <th>V24</th>\n",
       "      <th>V25</th>\n",
       "      <th>V26</th>\n",
       "      <th>V27</th>\n",
       "      <th>V28</th>\n",
       "      <th>Amount</th>\n",
       "      <th>Class</th>\n",
       "    </tr>\n",
       "  </thead>\n",
       "  <tbody>\n",
       "    <tr>\n",
       "      <th>0</th>\n",
       "      <td>0.0</td>\n",
       "      <td>-1.359807</td>\n",
       "      <td>-0.072781</td>\n",
       "      <td>2.536347</td>\n",
       "      <td>1.378155</td>\n",
       "      <td>-0.338321</td>\n",
       "      <td>0.462388</td>\n",
       "      <td>0.239599</td>\n",
       "      <td>0.098698</td>\n",
       "      <td>0.363787</td>\n",
       "      <td>...</td>\n",
       "      <td>-0.018307</td>\n",
       "      <td>0.277838</td>\n",
       "      <td>-0.110474</td>\n",
       "      <td>0.066928</td>\n",
       "      <td>0.128539</td>\n",
       "      <td>-0.189115</td>\n",
       "      <td>0.133558</td>\n",
       "      <td>-0.021053</td>\n",
       "      <td>149.62</td>\n",
       "      <td>0</td>\n",
       "    </tr>\n",
       "    <tr>\n",
       "      <th>1</th>\n",
       "      <td>0.0</td>\n",
       "      <td>1.191857</td>\n",
       "      <td>0.266151</td>\n",
       "      <td>0.166480</td>\n",
       "      <td>0.448154</td>\n",
       "      <td>0.060018</td>\n",
       "      <td>-0.082361</td>\n",
       "      <td>-0.078803</td>\n",
       "      <td>0.085102</td>\n",
       "      <td>-0.255425</td>\n",
       "      <td>...</td>\n",
       "      <td>-0.225775</td>\n",
       "      <td>-0.638672</td>\n",
       "      <td>0.101288</td>\n",
       "      <td>-0.339846</td>\n",
       "      <td>0.167170</td>\n",
       "      <td>0.125895</td>\n",
       "      <td>-0.008983</td>\n",
       "      <td>0.014724</td>\n",
       "      <td>2.69</td>\n",
       "      <td>0</td>\n",
       "    </tr>\n",
       "    <tr>\n",
       "      <th>2</th>\n",
       "      <td>1.0</td>\n",
       "      <td>-1.358354</td>\n",
       "      <td>-1.340163</td>\n",
       "      <td>1.773209</td>\n",
       "      <td>0.379780</td>\n",
       "      <td>-0.503198</td>\n",
       "      <td>1.800499</td>\n",
       "      <td>0.791461</td>\n",
       "      <td>0.247676</td>\n",
       "      <td>-1.514654</td>\n",
       "      <td>...</td>\n",
       "      <td>0.247998</td>\n",
       "      <td>0.771679</td>\n",
       "      <td>0.909412</td>\n",
       "      <td>-0.689281</td>\n",
       "      <td>-0.327642</td>\n",
       "      <td>-0.139097</td>\n",
       "      <td>-0.055353</td>\n",
       "      <td>-0.059752</td>\n",
       "      <td>378.66</td>\n",
       "      <td>0</td>\n",
       "    </tr>\n",
       "    <tr>\n",
       "      <th>3</th>\n",
       "      <td>1.0</td>\n",
       "      <td>-0.966272</td>\n",
       "      <td>-0.185226</td>\n",
       "      <td>1.792993</td>\n",
       "      <td>-0.863291</td>\n",
       "      <td>-0.010309</td>\n",
       "      <td>1.247203</td>\n",
       "      <td>0.237609</td>\n",
       "      <td>0.377436</td>\n",
       "      <td>-1.387024</td>\n",
       "      <td>...</td>\n",
       "      <td>-0.108300</td>\n",
       "      <td>0.005274</td>\n",
       "      <td>-0.190321</td>\n",
       "      <td>-1.175575</td>\n",
       "      <td>0.647376</td>\n",
       "      <td>-0.221929</td>\n",
       "      <td>0.062723</td>\n",
       "      <td>0.061458</td>\n",
       "      <td>123.50</td>\n",
       "      <td>0</td>\n",
       "    </tr>\n",
       "    <tr>\n",
       "      <th>4</th>\n",
       "      <td>2.0</td>\n",
       "      <td>-1.158233</td>\n",
       "      <td>0.877737</td>\n",
       "      <td>1.548718</td>\n",
       "      <td>0.403034</td>\n",
       "      <td>-0.407193</td>\n",
       "      <td>0.095921</td>\n",
       "      <td>0.592941</td>\n",
       "      <td>-0.270533</td>\n",
       "      <td>0.817739</td>\n",
       "      <td>...</td>\n",
       "      <td>-0.009431</td>\n",
       "      <td>0.798278</td>\n",
       "      <td>-0.137458</td>\n",
       "      <td>0.141267</td>\n",
       "      <td>-0.206010</td>\n",
       "      <td>0.502292</td>\n",
       "      <td>0.219422</td>\n",
       "      <td>0.215153</td>\n",
       "      <td>69.99</td>\n",
       "      <td>0</td>\n",
       "    </tr>\n",
       "  </tbody>\n",
       "</table>\n",
       "<p>5 rows × 31 columns</p>\n",
       "</div>"
      ],
      "text/plain": [
       "   Time        V1        V2        V3        V4        V5        V6        V7  \\\n",
       "0   0.0 -1.359807 -0.072781  2.536347  1.378155 -0.338321  0.462388  0.239599   \n",
       "1   0.0  1.191857  0.266151  0.166480  0.448154  0.060018 -0.082361 -0.078803   \n",
       "2   1.0 -1.358354 -1.340163  1.773209  0.379780 -0.503198  1.800499  0.791461   \n",
       "3   1.0 -0.966272 -0.185226  1.792993 -0.863291 -0.010309  1.247203  0.237609   \n",
       "4   2.0 -1.158233  0.877737  1.548718  0.403034 -0.407193  0.095921  0.592941   \n",
       "\n",
       "         V8        V9  ...       V21       V22       V23       V24       V25  \\\n",
       "0  0.098698  0.363787  ... -0.018307  0.277838 -0.110474  0.066928  0.128539   \n",
       "1  0.085102 -0.255425  ... -0.225775 -0.638672  0.101288 -0.339846  0.167170   \n",
       "2  0.247676 -1.514654  ...  0.247998  0.771679  0.909412 -0.689281 -0.327642   \n",
       "3  0.377436 -1.387024  ... -0.108300  0.005274 -0.190321 -1.175575  0.647376   \n",
       "4 -0.270533  0.817739  ... -0.009431  0.798278 -0.137458  0.141267 -0.206010   \n",
       "\n",
       "        V26       V27       V28  Amount  Class  \n",
       "0 -0.189115  0.133558 -0.021053  149.62      0  \n",
       "1  0.125895 -0.008983  0.014724    2.69      0  \n",
       "2 -0.139097 -0.055353 -0.059752  378.66      0  \n",
       "3 -0.221929  0.062723  0.061458  123.50      0  \n",
       "4  0.502292  0.219422  0.215153   69.99      0  \n",
       "\n",
       "[5 rows x 31 columns]"
      ]
     },
     "execution_count": 3,
     "metadata": {},
     "output_type": "execute_result"
    }
   ],
   "source": [
    "#first 5 rows of the dataset\n",
    "credit_card_data.head()"
   ]
  },
  {
   "cell_type": "code",
   "execution_count": 4,
   "id": "c2bb8bb3",
   "metadata": {},
   "outputs": [
    {
     "data": {
      "text/html": [
       "<div>\n",
       "<style scoped>\n",
       "    .dataframe tbody tr th:only-of-type {\n",
       "        vertical-align: middle;\n",
       "    }\n",
       "\n",
       "    .dataframe tbody tr th {\n",
       "        vertical-align: top;\n",
       "    }\n",
       "\n",
       "    .dataframe thead th {\n",
       "        text-align: right;\n",
       "    }\n",
       "</style>\n",
       "<table border=\"1\" class=\"dataframe\">\n",
       "  <thead>\n",
       "    <tr style=\"text-align: right;\">\n",
       "      <th></th>\n",
       "      <th>Time</th>\n",
       "      <th>V1</th>\n",
       "      <th>V2</th>\n",
       "      <th>V3</th>\n",
       "      <th>V4</th>\n",
       "      <th>V5</th>\n",
       "      <th>V6</th>\n",
       "      <th>V7</th>\n",
       "      <th>V8</th>\n",
       "      <th>V9</th>\n",
       "      <th>...</th>\n",
       "      <th>V21</th>\n",
       "      <th>V22</th>\n",
       "      <th>V23</th>\n",
       "      <th>V24</th>\n",
       "      <th>V25</th>\n",
       "      <th>V26</th>\n",
       "      <th>V27</th>\n",
       "      <th>V28</th>\n",
       "      <th>Amount</th>\n",
       "      <th>Class</th>\n",
       "    </tr>\n",
       "  </thead>\n",
       "  <tbody>\n",
       "    <tr>\n",
       "      <th>284802</th>\n",
       "      <td>172786.0</td>\n",
       "      <td>-11.881118</td>\n",
       "      <td>10.071785</td>\n",
       "      <td>-9.834783</td>\n",
       "      <td>-2.066656</td>\n",
       "      <td>-5.364473</td>\n",
       "      <td>-2.606837</td>\n",
       "      <td>-4.918215</td>\n",
       "      <td>7.305334</td>\n",
       "      <td>1.914428</td>\n",
       "      <td>...</td>\n",
       "      <td>0.213454</td>\n",
       "      <td>0.111864</td>\n",
       "      <td>1.014480</td>\n",
       "      <td>-0.509348</td>\n",
       "      <td>1.436807</td>\n",
       "      <td>0.250034</td>\n",
       "      <td>0.943651</td>\n",
       "      <td>0.823731</td>\n",
       "      <td>0.77</td>\n",
       "      <td>0</td>\n",
       "    </tr>\n",
       "    <tr>\n",
       "      <th>284803</th>\n",
       "      <td>172787.0</td>\n",
       "      <td>-0.732789</td>\n",
       "      <td>-0.055080</td>\n",
       "      <td>2.035030</td>\n",
       "      <td>-0.738589</td>\n",
       "      <td>0.868229</td>\n",
       "      <td>1.058415</td>\n",
       "      <td>0.024330</td>\n",
       "      <td>0.294869</td>\n",
       "      <td>0.584800</td>\n",
       "      <td>...</td>\n",
       "      <td>0.214205</td>\n",
       "      <td>0.924384</td>\n",
       "      <td>0.012463</td>\n",
       "      <td>-1.016226</td>\n",
       "      <td>-0.606624</td>\n",
       "      <td>-0.395255</td>\n",
       "      <td>0.068472</td>\n",
       "      <td>-0.053527</td>\n",
       "      <td>24.79</td>\n",
       "      <td>0</td>\n",
       "    </tr>\n",
       "    <tr>\n",
       "      <th>284804</th>\n",
       "      <td>172788.0</td>\n",
       "      <td>1.919565</td>\n",
       "      <td>-0.301254</td>\n",
       "      <td>-3.249640</td>\n",
       "      <td>-0.557828</td>\n",
       "      <td>2.630515</td>\n",
       "      <td>3.031260</td>\n",
       "      <td>-0.296827</td>\n",
       "      <td>0.708417</td>\n",
       "      <td>0.432454</td>\n",
       "      <td>...</td>\n",
       "      <td>0.232045</td>\n",
       "      <td>0.578229</td>\n",
       "      <td>-0.037501</td>\n",
       "      <td>0.640134</td>\n",
       "      <td>0.265745</td>\n",
       "      <td>-0.087371</td>\n",
       "      <td>0.004455</td>\n",
       "      <td>-0.026561</td>\n",
       "      <td>67.88</td>\n",
       "      <td>0</td>\n",
       "    </tr>\n",
       "    <tr>\n",
       "      <th>284805</th>\n",
       "      <td>172788.0</td>\n",
       "      <td>-0.240440</td>\n",
       "      <td>0.530483</td>\n",
       "      <td>0.702510</td>\n",
       "      <td>0.689799</td>\n",
       "      <td>-0.377961</td>\n",
       "      <td>0.623708</td>\n",
       "      <td>-0.686180</td>\n",
       "      <td>0.679145</td>\n",
       "      <td>0.392087</td>\n",
       "      <td>...</td>\n",
       "      <td>0.265245</td>\n",
       "      <td>0.800049</td>\n",
       "      <td>-0.163298</td>\n",
       "      <td>0.123205</td>\n",
       "      <td>-0.569159</td>\n",
       "      <td>0.546668</td>\n",
       "      <td>0.108821</td>\n",
       "      <td>0.104533</td>\n",
       "      <td>10.00</td>\n",
       "      <td>0</td>\n",
       "    </tr>\n",
       "    <tr>\n",
       "      <th>284806</th>\n",
       "      <td>172792.0</td>\n",
       "      <td>-0.533413</td>\n",
       "      <td>-0.189733</td>\n",
       "      <td>0.703337</td>\n",
       "      <td>-0.506271</td>\n",
       "      <td>-0.012546</td>\n",
       "      <td>-0.649617</td>\n",
       "      <td>1.577006</td>\n",
       "      <td>-0.414650</td>\n",
       "      <td>0.486180</td>\n",
       "      <td>...</td>\n",
       "      <td>0.261057</td>\n",
       "      <td>0.643078</td>\n",
       "      <td>0.376777</td>\n",
       "      <td>0.008797</td>\n",
       "      <td>-0.473649</td>\n",
       "      <td>-0.818267</td>\n",
       "      <td>-0.002415</td>\n",
       "      <td>0.013649</td>\n",
       "      <td>217.00</td>\n",
       "      <td>0</td>\n",
       "    </tr>\n",
       "  </tbody>\n",
       "</table>\n",
       "<p>5 rows × 31 columns</p>\n",
       "</div>"
      ],
      "text/plain": [
       "            Time         V1         V2        V3        V4        V5  \\\n",
       "284802  172786.0 -11.881118  10.071785 -9.834783 -2.066656 -5.364473   \n",
       "284803  172787.0  -0.732789  -0.055080  2.035030 -0.738589  0.868229   \n",
       "284804  172788.0   1.919565  -0.301254 -3.249640 -0.557828  2.630515   \n",
       "284805  172788.0  -0.240440   0.530483  0.702510  0.689799 -0.377961   \n",
       "284806  172792.0  -0.533413  -0.189733  0.703337 -0.506271 -0.012546   \n",
       "\n",
       "              V6        V7        V8        V9  ...       V21       V22  \\\n",
       "284802 -2.606837 -4.918215  7.305334  1.914428  ...  0.213454  0.111864   \n",
       "284803  1.058415  0.024330  0.294869  0.584800  ...  0.214205  0.924384   \n",
       "284804  3.031260 -0.296827  0.708417  0.432454  ...  0.232045  0.578229   \n",
       "284805  0.623708 -0.686180  0.679145  0.392087  ...  0.265245  0.800049   \n",
       "284806 -0.649617  1.577006 -0.414650  0.486180  ...  0.261057  0.643078   \n",
       "\n",
       "             V23       V24       V25       V26       V27       V28  Amount  \\\n",
       "284802  1.014480 -0.509348  1.436807  0.250034  0.943651  0.823731    0.77   \n",
       "284803  0.012463 -1.016226 -0.606624 -0.395255  0.068472 -0.053527   24.79   \n",
       "284804 -0.037501  0.640134  0.265745 -0.087371  0.004455 -0.026561   67.88   \n",
       "284805 -0.163298  0.123205 -0.569159  0.546668  0.108821  0.104533   10.00   \n",
       "284806  0.376777  0.008797 -0.473649 -0.818267 -0.002415  0.013649  217.00   \n",
       "\n",
       "        Class  \n",
       "284802      0  \n",
       "284803      0  \n",
       "284804      0  \n",
       "284805      0  \n",
       "284806      0  \n",
       "\n",
       "[5 rows x 31 columns]"
      ]
     },
     "execution_count": 4,
     "metadata": {},
     "output_type": "execute_result"
    }
   ],
   "source": [
    "#last 5 rows of the dataset\n",
    "credit_card_data.tail()"
   ]
  },
  {
   "cell_type": "code",
   "execution_count": 5,
   "id": "654d72e0",
   "metadata": {},
   "outputs": [
    {
     "name": "stdout",
     "output_type": "stream",
     "text": [
      "<class 'pandas.core.frame.DataFrame'>\n",
      "RangeIndex: 284807 entries, 0 to 284806\n",
      "Data columns (total 31 columns):\n",
      " #   Column  Non-Null Count   Dtype  \n",
      "---  ------  --------------   -----  \n",
      " 0   Time    284807 non-null  float64\n",
      " 1   V1      284807 non-null  float64\n",
      " 2   V2      284807 non-null  float64\n",
      " 3   V3      284807 non-null  float64\n",
      " 4   V4      284807 non-null  float64\n",
      " 5   V5      284807 non-null  float64\n",
      " 6   V6      284807 non-null  float64\n",
      " 7   V7      284807 non-null  float64\n",
      " 8   V8      284807 non-null  float64\n",
      " 9   V9      284807 non-null  float64\n",
      " 10  V10     284807 non-null  float64\n",
      " 11  V11     284807 non-null  float64\n",
      " 12  V12     284807 non-null  float64\n",
      " 13  V13     284807 non-null  float64\n",
      " 14  V14     284807 non-null  float64\n",
      " 15  V15     284807 non-null  float64\n",
      " 16  V16     284807 non-null  float64\n",
      " 17  V17     284807 non-null  float64\n",
      " 18  V18     284807 non-null  float64\n",
      " 19  V19     284807 non-null  float64\n",
      " 20  V20     284807 non-null  float64\n",
      " 21  V21     284807 non-null  float64\n",
      " 22  V22     284807 non-null  float64\n",
      " 23  V23     284807 non-null  float64\n",
      " 24  V24     284807 non-null  float64\n",
      " 25  V25     284807 non-null  float64\n",
      " 26  V26     284807 non-null  float64\n",
      " 27  V27     284807 non-null  float64\n",
      " 28  V28     284807 non-null  float64\n",
      " 29  Amount  284807 non-null  float64\n",
      " 30  Class   284807 non-null  int64  \n",
      "dtypes: float64(30), int64(1)\n",
      "memory usage: 67.4 MB\n"
     ]
    }
   ],
   "source": [
    "#dataset information\n",
    "credit_card_data.info()"
   ]
  },
  {
   "cell_type": "code",
   "execution_count": 6,
   "id": "0224b22d",
   "metadata": {},
   "outputs": [
    {
     "data": {
      "text/plain": [
       "Time      0\n",
       "V1        0\n",
       "V2        0\n",
       "V3        0\n",
       "V4        0\n",
       "V5        0\n",
       "V6        0\n",
       "V7        0\n",
       "V8        0\n",
       "V9        0\n",
       "V10       0\n",
       "V11       0\n",
       "V12       0\n",
       "V13       0\n",
       "V14       0\n",
       "V15       0\n",
       "V16       0\n",
       "V17       0\n",
       "V18       0\n",
       "V19       0\n",
       "V20       0\n",
       "V21       0\n",
       "V22       0\n",
       "V23       0\n",
       "V24       0\n",
       "V25       0\n",
       "V26       0\n",
       "V27       0\n",
       "V28       0\n",
       "Amount    0\n",
       "Class     0\n",
       "dtype: int64"
      ]
     },
     "execution_count": 6,
     "metadata": {},
     "output_type": "execute_result"
    }
   ],
   "source": [
    "#checking the number of missing values in each column\n",
    "credit_card_data.isnull().sum()"
   ]
  },
  {
   "cell_type": "code",
   "execution_count": 7,
   "id": "16a008a9",
   "metadata": {},
   "outputs": [
    {
     "data": {
      "text/plain": [
       "(284807, 31)"
      ]
     },
     "execution_count": 7,
     "metadata": {},
     "output_type": "execute_result"
    }
   ],
   "source": [
    "#before removing duplicates\n",
    "credit_card_data.shape"
   ]
  },
  {
   "cell_type": "code",
   "execution_count": 8,
   "id": "ef4d92ad",
   "metadata": {},
   "outputs": [],
   "source": [
    "#remove duplicates\n",
    "credit_card_data.drop_duplicates(inplace=True)"
   ]
  },
  {
   "cell_type": "code",
   "execution_count": 9,
   "id": "01d18b99",
   "metadata": {},
   "outputs": [
    {
     "data": {
      "text/plain": [
       "(283726, 31)"
      ]
     },
     "execution_count": 9,
     "metadata": {},
     "output_type": "execute_result"
    }
   ],
   "source": [
    "#after removing duplicates\n",
    "credit_card_data.shape"
   ]
  },
  {
   "cell_type": "code",
   "execution_count": 10,
   "id": "7f499898",
   "metadata": {},
   "outputs": [
    {
     "data": {
      "text/plain": [
       "0    283253\n",
       "1       473\n",
       "Name: Class, dtype: int64"
      ]
     },
     "execution_count": 10,
     "metadata": {},
     "output_type": "execute_result"
    }
   ],
   "source": [
    "#distribution of legit transactions and fraudulent transactions\n",
    "credit_card_data['Class'].value_counts()"
   ]
  },
  {
   "cell_type": "markdown",
   "id": "e4a8c1c4",
   "metadata": {},
   "source": [
    "\n",
    "This dataset is highly unbalanced \n",
    "0->normal transaction\n",
    "1->fraudulent transaction"
   ]
  },
  {
   "cell_type": "code",
   "execution_count": 11,
   "id": "394ee2cf",
   "metadata": {},
   "outputs": [],
   "source": [
    "#separating the data for analysis\n",
    "legit = credit_card_data[credit_card_data.Class == 0]\n",
    "fraud = credit_card_data[credit_card_data.Class == 1]"
   ]
  },
  {
   "cell_type": "code",
   "execution_count": 12,
   "id": "69181eaf",
   "metadata": {},
   "outputs": [
    {
     "name": "stdout",
     "output_type": "stream",
     "text": [
      "(283253, 31)\n",
      "(473, 31)\n"
     ]
    }
   ],
   "source": [
    "print(legit.shape)\n",
    "print(fraud.shape)"
   ]
  },
  {
   "cell_type": "code",
   "execution_count": 13,
   "id": "d2741d1a",
   "metadata": {},
   "outputs": [
    {
     "data": {
      "text/plain": [
       "count    283253.000000\n",
       "mean         88.413575\n",
       "std         250.379023\n",
       "min           0.000000\n",
       "25%           5.670000\n",
       "50%          22.000000\n",
       "75%          77.460000\n",
       "max       25691.160000\n",
       "Name: Amount, dtype: float64"
      ]
     },
     "execution_count": 13,
     "metadata": {},
     "output_type": "execute_result"
    }
   ],
   "source": [
    "#statistiscal measures of data\n",
    "legit.Amount.describe()"
   ]
  },
  {
   "cell_type": "code",
   "execution_count": 14,
   "id": "50b7a4e8",
   "metadata": {},
   "outputs": [
    {
     "data": {
      "text/plain": [
       "count     473.000000\n",
       "mean      123.871860\n",
       "std       260.211041\n",
       "min         0.000000\n",
       "25%         1.000000\n",
       "50%         9.820000\n",
       "75%       105.890000\n",
       "max      2125.870000\n",
       "Name: Amount, dtype: float64"
      ]
     },
     "execution_count": 14,
     "metadata": {},
     "output_type": "execute_result"
    }
   ],
   "source": [
    "fraud.Amount.describe()"
   ]
  },
  {
   "cell_type": "code",
   "execution_count": 15,
   "id": "9128da7b",
   "metadata": {},
   "outputs": [
    {
     "data": {
      "text/html": [
       "<div>\n",
       "<style scoped>\n",
       "    .dataframe tbody tr th:only-of-type {\n",
       "        vertical-align: middle;\n",
       "    }\n",
       "\n",
       "    .dataframe tbody tr th {\n",
       "        vertical-align: top;\n",
       "    }\n",
       "\n",
       "    .dataframe thead th {\n",
       "        text-align: right;\n",
       "    }\n",
       "</style>\n",
       "<table border=\"1\" class=\"dataframe\">\n",
       "  <thead>\n",
       "    <tr style=\"text-align: right;\">\n",
       "      <th></th>\n",
       "      <th>Time</th>\n",
       "      <th>V1</th>\n",
       "      <th>V2</th>\n",
       "      <th>V3</th>\n",
       "      <th>V4</th>\n",
       "      <th>V5</th>\n",
       "      <th>V6</th>\n",
       "      <th>V7</th>\n",
       "      <th>V8</th>\n",
       "      <th>V9</th>\n",
       "      <th>...</th>\n",
       "      <th>V20</th>\n",
       "      <th>V21</th>\n",
       "      <th>V22</th>\n",
       "      <th>V23</th>\n",
       "      <th>V24</th>\n",
       "      <th>V25</th>\n",
       "      <th>V26</th>\n",
       "      <th>V27</th>\n",
       "      <th>V28</th>\n",
       "      <th>Amount</th>\n",
       "    </tr>\n",
       "    <tr>\n",
       "      <th>Class</th>\n",
       "      <th></th>\n",
       "      <th></th>\n",
       "      <th></th>\n",
       "      <th></th>\n",
       "      <th></th>\n",
       "      <th></th>\n",
       "      <th></th>\n",
       "      <th></th>\n",
       "      <th></th>\n",
       "      <th></th>\n",
       "      <th></th>\n",
       "      <th></th>\n",
       "      <th></th>\n",
       "      <th></th>\n",
       "      <th></th>\n",
       "      <th></th>\n",
       "      <th></th>\n",
       "      <th></th>\n",
       "      <th></th>\n",
       "      <th></th>\n",
       "      <th></th>\n",
       "    </tr>\n",
       "  </thead>\n",
       "  <tbody>\n",
       "    <tr>\n",
       "      <th>0</th>\n",
       "      <td>94835.058093</td>\n",
       "      <td>0.013439</td>\n",
       "      <td>-0.009829</td>\n",
       "      <td>0.012853</td>\n",
       "      <td>-0.010440</td>\n",
       "      <td>0.006769</td>\n",
       "      <td>0.001251</td>\n",
       "      <td>0.010447</td>\n",
       "      <td>-0.002448</td>\n",
       "      <td>0.002613</td>\n",
       "      <td>...</td>\n",
       "      <td>-0.000489</td>\n",
       "      <td>-0.00115</td>\n",
       "      <td>-0.000160</td>\n",
       "      <td>0.000360</td>\n",
       "      <td>0.000393</td>\n",
       "      <td>-0.000301</td>\n",
       "      <td>0.000065</td>\n",
       "      <td>0.001409</td>\n",
       "      <td>0.000418</td>\n",
       "      <td>88.413575</td>\n",
       "    </tr>\n",
       "    <tr>\n",
       "      <th>1</th>\n",
       "      <td>80450.513742</td>\n",
       "      <td>-4.498280</td>\n",
       "      <td>3.405965</td>\n",
       "      <td>-6.729599</td>\n",
       "      <td>4.472591</td>\n",
       "      <td>-2.957197</td>\n",
       "      <td>-1.432518</td>\n",
       "      <td>-5.175912</td>\n",
       "      <td>0.953255</td>\n",
       "      <td>-2.522124</td>\n",
       "      <td>...</td>\n",
       "      <td>0.405043</td>\n",
       "      <td>0.46655</td>\n",
       "      <td>0.086639</td>\n",
       "      <td>-0.096464</td>\n",
       "      <td>-0.106643</td>\n",
       "      <td>0.040615</td>\n",
       "      <td>0.050456</td>\n",
       "      <td>0.213774</td>\n",
       "      <td>0.078270</td>\n",
       "      <td>123.871860</td>\n",
       "    </tr>\n",
       "  </tbody>\n",
       "</table>\n",
       "<p>2 rows × 30 columns</p>\n",
       "</div>"
      ],
      "text/plain": [
       "               Time        V1        V2        V3        V4        V5  \\\n",
       "Class                                                                   \n",
       "0      94835.058093  0.013439 -0.009829  0.012853 -0.010440  0.006769   \n",
       "1      80450.513742 -4.498280  3.405965 -6.729599  4.472591 -2.957197   \n",
       "\n",
       "             V6        V7        V8        V9  ...       V20      V21  \\\n",
       "Class                                          ...                      \n",
       "0      0.001251  0.010447 -0.002448  0.002613  ... -0.000489 -0.00115   \n",
       "1     -1.432518 -5.175912  0.953255 -2.522124  ...  0.405043  0.46655   \n",
       "\n",
       "            V22       V23       V24       V25       V26       V27       V28  \\\n",
       "Class                                                                         \n",
       "0     -0.000160  0.000360  0.000393 -0.000301  0.000065  0.001409  0.000418   \n",
       "1      0.086639 -0.096464 -0.106643  0.040615  0.050456  0.213774  0.078270   \n",
       "\n",
       "           Amount  \n",
       "Class              \n",
       "0       88.413575  \n",
       "1      123.871860  \n",
       "\n",
       "[2 rows x 30 columns]"
      ]
     },
     "execution_count": 15,
     "metadata": {},
     "output_type": "execute_result"
    }
   ],
   "source": [
    "#compare the values of both transactions\n",
    "credit_card_data.groupby('Class').mean()"
   ]
  },
  {
   "cell_type": "markdown",
   "id": "f7134b54",
   "metadata": {},
   "source": [
    "UnderSampling\n",
    "\n",
    "Build a sample dataset containing similar distribution of normal transactions and Fraudulent Transactions\n",
    "\n",
    "Number of Fraudulent Transactions --> 473"
   ]
  },
  {
   "cell_type": "code",
   "execution_count": 16,
   "id": "77dc48c1",
   "metadata": {},
   "outputs": [],
   "source": [
    "legit_sample = legit.sample(n=473)"
   ]
  },
  {
   "cell_type": "markdown",
   "id": "edfeab0a",
   "metadata": {},
   "source": [
    "Concatenating two dataframes"
   ]
  },
  {
   "cell_type": "code",
   "execution_count": 17,
   "id": "92007377",
   "metadata": {},
   "outputs": [],
   "source": [
    "new_dataset = pd.concat([legit_sample, fraud], axis=0)"
   ]
  },
  {
   "cell_type": "code",
   "execution_count": 18,
   "id": "415fc305",
   "metadata": {},
   "outputs": [
    {
     "data": {
      "text/html": [
       "<div>\n",
       "<style scoped>\n",
       "    .dataframe tbody tr th:only-of-type {\n",
       "        vertical-align: middle;\n",
       "    }\n",
       "\n",
       "    .dataframe tbody tr th {\n",
       "        vertical-align: top;\n",
       "    }\n",
       "\n",
       "    .dataframe thead th {\n",
       "        text-align: right;\n",
       "    }\n",
       "</style>\n",
       "<table border=\"1\" class=\"dataframe\">\n",
       "  <thead>\n",
       "    <tr style=\"text-align: right;\">\n",
       "      <th></th>\n",
       "      <th>Time</th>\n",
       "      <th>V1</th>\n",
       "      <th>V2</th>\n",
       "      <th>V3</th>\n",
       "      <th>V4</th>\n",
       "      <th>V5</th>\n",
       "      <th>V6</th>\n",
       "      <th>V7</th>\n",
       "      <th>V8</th>\n",
       "      <th>V9</th>\n",
       "      <th>...</th>\n",
       "      <th>V21</th>\n",
       "      <th>V22</th>\n",
       "      <th>V23</th>\n",
       "      <th>V24</th>\n",
       "      <th>V25</th>\n",
       "      <th>V26</th>\n",
       "      <th>V27</th>\n",
       "      <th>V28</th>\n",
       "      <th>Amount</th>\n",
       "      <th>Class</th>\n",
       "    </tr>\n",
       "  </thead>\n",
       "  <tbody>\n",
       "    <tr>\n",
       "      <th>78406</th>\n",
       "      <td>57511.0</td>\n",
       "      <td>1.264629</td>\n",
       "      <td>-0.212523</td>\n",
       "      <td>0.448531</td>\n",
       "      <td>-0.238811</td>\n",
       "      <td>-0.734429</td>\n",
       "      <td>-0.555945</td>\n",
       "      <td>-0.444488</td>\n",
       "      <td>0.107403</td>\n",
       "      <td>0.436540</td>\n",
       "      <td>...</td>\n",
       "      <td>-0.125777</td>\n",
       "      <td>-0.470940</td>\n",
       "      <td>0.067463</td>\n",
       "      <td>0.015496</td>\n",
       "      <td>0.069551</td>\n",
       "      <td>0.913555</td>\n",
       "      <td>-0.086766</td>\n",
       "      <td>-0.008219</td>\n",
       "      <td>0.92</td>\n",
       "      <td>0</td>\n",
       "    </tr>\n",
       "    <tr>\n",
       "      <th>123408</th>\n",
       "      <td>76915.0</td>\n",
       "      <td>1.265271</td>\n",
       "      <td>-0.189142</td>\n",
       "      <td>0.172729</td>\n",
       "      <td>0.008196</td>\n",
       "      <td>-0.288775</td>\n",
       "      <td>-0.247775</td>\n",
       "      <td>-0.092912</td>\n",
       "      <td>-0.157616</td>\n",
       "      <td>0.647960</td>\n",
       "      <td>...</td>\n",
       "      <td>-0.138592</td>\n",
       "      <td>-0.151214</td>\n",
       "      <td>-0.203253</td>\n",
       "      <td>-0.319064</td>\n",
       "      <td>0.586308</td>\n",
       "      <td>1.156764</td>\n",
       "      <td>-0.065333</td>\n",
       "      <td>-0.000939</td>\n",
       "      <td>35.00</td>\n",
       "      <td>0</td>\n",
       "    </tr>\n",
       "    <tr>\n",
       "      <th>80458</th>\n",
       "      <td>58496.0</td>\n",
       "      <td>-0.769923</td>\n",
       "      <td>1.692726</td>\n",
       "      <td>1.040596</td>\n",
       "      <td>2.314980</td>\n",
       "      <td>0.771871</td>\n",
       "      <td>1.194325</td>\n",
       "      <td>0.828797</td>\n",
       "      <td>-0.818222</td>\n",
       "      <td>-2.042708</td>\n",
       "      <td>...</td>\n",
       "      <td>0.742252</td>\n",
       "      <td>-0.280914</td>\n",
       "      <td>-0.400340</td>\n",
       "      <td>-1.004544</td>\n",
       "      <td>0.496995</td>\n",
       "      <td>0.351555</td>\n",
       "      <td>0.021805</td>\n",
       "      <td>0.031332</td>\n",
       "      <td>77.52</td>\n",
       "      <td>0</td>\n",
       "    </tr>\n",
       "    <tr>\n",
       "      <th>283015</th>\n",
       "      <td>171312.0</td>\n",
       "      <td>-0.189767</td>\n",
       "      <td>0.110463</td>\n",
       "      <td>0.943858</td>\n",
       "      <td>-1.858640</td>\n",
       "      <td>0.021766</td>\n",
       "      <td>-1.061964</td>\n",
       "      <td>0.362214</td>\n",
       "      <td>-0.256478</td>\n",
       "      <td>-1.222870</td>\n",
       "      <td>...</td>\n",
       "      <td>0.300056</td>\n",
       "      <td>0.873610</td>\n",
       "      <td>-0.215426</td>\n",
       "      <td>0.101118</td>\n",
       "      <td>-0.184154</td>\n",
       "      <td>-0.220611</td>\n",
       "      <td>0.140050</td>\n",
       "      <td>0.159459</td>\n",
       "      <td>3.95</td>\n",
       "      <td>0</td>\n",
       "    </tr>\n",
       "    <tr>\n",
       "      <th>52707</th>\n",
       "      <td>45598.0</td>\n",
       "      <td>-0.405662</td>\n",
       "      <td>0.993962</td>\n",
       "      <td>1.075721</td>\n",
       "      <td>0.447830</td>\n",
       "      <td>0.106284</td>\n",
       "      <td>-0.515013</td>\n",
       "      <td>1.065113</td>\n",
       "      <td>-0.200866</td>\n",
       "      <td>-0.485375</td>\n",
       "      <td>...</td>\n",
       "      <td>0.085790</td>\n",
       "      <td>0.225689</td>\n",
       "      <td>-0.204817</td>\n",
       "      <td>0.028458</td>\n",
       "      <td>0.301745</td>\n",
       "      <td>-0.356328</td>\n",
       "      <td>-0.068766</td>\n",
       "      <td>0.000958</td>\n",
       "      <td>60.58</td>\n",
       "      <td>0</td>\n",
       "    </tr>\n",
       "  </tbody>\n",
       "</table>\n",
       "<p>5 rows × 31 columns</p>\n",
       "</div>"
      ],
      "text/plain": [
       "            Time        V1        V2        V3        V4        V5        V6  \\\n",
       "78406    57511.0  1.264629 -0.212523  0.448531 -0.238811 -0.734429 -0.555945   \n",
       "123408   76915.0  1.265271 -0.189142  0.172729  0.008196 -0.288775 -0.247775   \n",
       "80458    58496.0 -0.769923  1.692726  1.040596  2.314980  0.771871  1.194325   \n",
       "283015  171312.0 -0.189767  0.110463  0.943858 -1.858640  0.021766 -1.061964   \n",
       "52707    45598.0 -0.405662  0.993962  1.075721  0.447830  0.106284 -0.515013   \n",
       "\n",
       "              V7        V8        V9  ...       V21       V22       V23  \\\n",
       "78406  -0.444488  0.107403  0.436540  ... -0.125777 -0.470940  0.067463   \n",
       "123408 -0.092912 -0.157616  0.647960  ... -0.138592 -0.151214 -0.203253   \n",
       "80458   0.828797 -0.818222 -2.042708  ...  0.742252 -0.280914 -0.400340   \n",
       "283015  0.362214 -0.256478 -1.222870  ...  0.300056  0.873610 -0.215426   \n",
       "52707   1.065113 -0.200866 -0.485375  ...  0.085790  0.225689 -0.204817   \n",
       "\n",
       "             V24       V25       V26       V27       V28  Amount  Class  \n",
       "78406   0.015496  0.069551  0.913555 -0.086766 -0.008219    0.92      0  \n",
       "123408 -0.319064  0.586308  1.156764 -0.065333 -0.000939   35.00      0  \n",
       "80458  -1.004544  0.496995  0.351555  0.021805  0.031332   77.52      0  \n",
       "283015  0.101118 -0.184154 -0.220611  0.140050  0.159459    3.95      0  \n",
       "52707   0.028458  0.301745 -0.356328 -0.068766  0.000958   60.58      0  \n",
       "\n",
       "[5 rows x 31 columns]"
      ]
     },
     "execution_count": 18,
     "metadata": {},
     "output_type": "execute_result"
    }
   ],
   "source": [
    "new_dataset.head()"
   ]
  },
  {
   "cell_type": "code",
   "execution_count": 19,
   "id": "8910f2a9",
   "metadata": {},
   "outputs": [
    {
     "data": {
      "text/html": [
       "<div>\n",
       "<style scoped>\n",
       "    .dataframe tbody tr th:only-of-type {\n",
       "        vertical-align: middle;\n",
       "    }\n",
       "\n",
       "    .dataframe tbody tr th {\n",
       "        vertical-align: top;\n",
       "    }\n",
       "\n",
       "    .dataframe thead th {\n",
       "        text-align: right;\n",
       "    }\n",
       "</style>\n",
       "<table border=\"1\" class=\"dataframe\">\n",
       "  <thead>\n",
       "    <tr style=\"text-align: right;\">\n",
       "      <th></th>\n",
       "      <th>Time</th>\n",
       "      <th>V1</th>\n",
       "      <th>V2</th>\n",
       "      <th>V3</th>\n",
       "      <th>V4</th>\n",
       "      <th>V5</th>\n",
       "      <th>V6</th>\n",
       "      <th>V7</th>\n",
       "      <th>V8</th>\n",
       "      <th>V9</th>\n",
       "      <th>...</th>\n",
       "      <th>V21</th>\n",
       "      <th>V22</th>\n",
       "      <th>V23</th>\n",
       "      <th>V24</th>\n",
       "      <th>V25</th>\n",
       "      <th>V26</th>\n",
       "      <th>V27</th>\n",
       "      <th>V28</th>\n",
       "      <th>Amount</th>\n",
       "      <th>Class</th>\n",
       "    </tr>\n",
       "  </thead>\n",
       "  <tbody>\n",
       "    <tr>\n",
       "      <th>279863</th>\n",
       "      <td>169142.0</td>\n",
       "      <td>-1.927883</td>\n",
       "      <td>1.125653</td>\n",
       "      <td>-4.518331</td>\n",
       "      <td>1.749293</td>\n",
       "      <td>-1.566487</td>\n",
       "      <td>-2.010494</td>\n",
       "      <td>-0.882850</td>\n",
       "      <td>0.697211</td>\n",
       "      <td>-2.064945</td>\n",
       "      <td>...</td>\n",
       "      <td>0.778584</td>\n",
       "      <td>-0.319189</td>\n",
       "      <td>0.639419</td>\n",
       "      <td>-0.294885</td>\n",
       "      <td>0.537503</td>\n",
       "      <td>0.788395</td>\n",
       "      <td>0.292680</td>\n",
       "      <td>0.147968</td>\n",
       "      <td>390.00</td>\n",
       "      <td>1</td>\n",
       "    </tr>\n",
       "    <tr>\n",
       "      <th>280143</th>\n",
       "      <td>169347.0</td>\n",
       "      <td>1.378559</td>\n",
       "      <td>1.289381</td>\n",
       "      <td>-5.004247</td>\n",
       "      <td>1.411850</td>\n",
       "      <td>0.442581</td>\n",
       "      <td>-1.326536</td>\n",
       "      <td>-1.413170</td>\n",
       "      <td>0.248525</td>\n",
       "      <td>-1.127396</td>\n",
       "      <td>...</td>\n",
       "      <td>0.370612</td>\n",
       "      <td>0.028234</td>\n",
       "      <td>-0.145640</td>\n",
       "      <td>-0.081049</td>\n",
       "      <td>0.521875</td>\n",
       "      <td>0.739467</td>\n",
       "      <td>0.389152</td>\n",
       "      <td>0.186637</td>\n",
       "      <td>0.76</td>\n",
       "      <td>1</td>\n",
       "    </tr>\n",
       "    <tr>\n",
       "      <th>280149</th>\n",
       "      <td>169351.0</td>\n",
       "      <td>-0.676143</td>\n",
       "      <td>1.126366</td>\n",
       "      <td>-2.213700</td>\n",
       "      <td>0.468308</td>\n",
       "      <td>-1.120541</td>\n",
       "      <td>-0.003346</td>\n",
       "      <td>-2.234739</td>\n",
       "      <td>1.210158</td>\n",
       "      <td>-0.652250</td>\n",
       "      <td>...</td>\n",
       "      <td>0.751826</td>\n",
       "      <td>0.834108</td>\n",
       "      <td>0.190944</td>\n",
       "      <td>0.032070</td>\n",
       "      <td>-0.739695</td>\n",
       "      <td>0.471111</td>\n",
       "      <td>0.385107</td>\n",
       "      <td>0.194361</td>\n",
       "      <td>77.89</td>\n",
       "      <td>1</td>\n",
       "    </tr>\n",
       "    <tr>\n",
       "      <th>281144</th>\n",
       "      <td>169966.0</td>\n",
       "      <td>-3.113832</td>\n",
       "      <td>0.585864</td>\n",
       "      <td>-5.399730</td>\n",
       "      <td>1.817092</td>\n",
       "      <td>-0.840618</td>\n",
       "      <td>-2.943548</td>\n",
       "      <td>-2.208002</td>\n",
       "      <td>1.058733</td>\n",
       "      <td>-1.632333</td>\n",
       "      <td>...</td>\n",
       "      <td>0.583276</td>\n",
       "      <td>-0.269209</td>\n",
       "      <td>-0.456108</td>\n",
       "      <td>-0.183659</td>\n",
       "      <td>-0.328168</td>\n",
       "      <td>0.606116</td>\n",
       "      <td>0.884876</td>\n",
       "      <td>-0.253700</td>\n",
       "      <td>245.00</td>\n",
       "      <td>1</td>\n",
       "    </tr>\n",
       "    <tr>\n",
       "      <th>281674</th>\n",
       "      <td>170348.0</td>\n",
       "      <td>1.991976</td>\n",
       "      <td>0.158476</td>\n",
       "      <td>-2.583441</td>\n",
       "      <td>0.408670</td>\n",
       "      <td>1.151147</td>\n",
       "      <td>-0.096695</td>\n",
       "      <td>0.223050</td>\n",
       "      <td>-0.068384</td>\n",
       "      <td>0.577829</td>\n",
       "      <td>...</td>\n",
       "      <td>-0.164350</td>\n",
       "      <td>-0.295135</td>\n",
       "      <td>-0.072173</td>\n",
       "      <td>-0.450261</td>\n",
       "      <td>0.313267</td>\n",
       "      <td>-0.289617</td>\n",
       "      <td>0.002988</td>\n",
       "      <td>-0.015309</td>\n",
       "      <td>42.53</td>\n",
       "      <td>1</td>\n",
       "    </tr>\n",
       "  </tbody>\n",
       "</table>\n",
       "<p>5 rows × 31 columns</p>\n",
       "</div>"
      ],
      "text/plain": [
       "            Time        V1        V2        V3        V4        V5        V6  \\\n",
       "279863  169142.0 -1.927883  1.125653 -4.518331  1.749293 -1.566487 -2.010494   \n",
       "280143  169347.0  1.378559  1.289381 -5.004247  1.411850  0.442581 -1.326536   \n",
       "280149  169351.0 -0.676143  1.126366 -2.213700  0.468308 -1.120541 -0.003346   \n",
       "281144  169966.0 -3.113832  0.585864 -5.399730  1.817092 -0.840618 -2.943548   \n",
       "281674  170348.0  1.991976  0.158476 -2.583441  0.408670  1.151147 -0.096695   \n",
       "\n",
       "              V7        V8        V9  ...       V21       V22       V23  \\\n",
       "279863 -0.882850  0.697211 -2.064945  ...  0.778584 -0.319189  0.639419   \n",
       "280143 -1.413170  0.248525 -1.127396  ...  0.370612  0.028234 -0.145640   \n",
       "280149 -2.234739  1.210158 -0.652250  ...  0.751826  0.834108  0.190944   \n",
       "281144 -2.208002  1.058733 -1.632333  ...  0.583276 -0.269209 -0.456108   \n",
       "281674  0.223050 -0.068384  0.577829  ... -0.164350 -0.295135 -0.072173   \n",
       "\n",
       "             V24       V25       V26       V27       V28  Amount  Class  \n",
       "279863 -0.294885  0.537503  0.788395  0.292680  0.147968  390.00      1  \n",
       "280143 -0.081049  0.521875  0.739467  0.389152  0.186637    0.76      1  \n",
       "280149  0.032070 -0.739695  0.471111  0.385107  0.194361   77.89      1  \n",
       "281144 -0.183659 -0.328168  0.606116  0.884876 -0.253700  245.00      1  \n",
       "281674 -0.450261  0.313267 -0.289617  0.002988 -0.015309   42.53      1  \n",
       "\n",
       "[5 rows x 31 columns]"
      ]
     },
     "execution_count": 19,
     "metadata": {},
     "output_type": "execute_result"
    }
   ],
   "source": [
    "new_dataset.tail()"
   ]
  },
  {
   "cell_type": "code",
   "execution_count": 20,
   "id": "6ece13b1",
   "metadata": {},
   "outputs": [
    {
     "data": {
      "text/plain": [
       "0    473\n",
       "1    473\n",
       "Name: Class, dtype: int64"
      ]
     },
     "execution_count": 20,
     "metadata": {},
     "output_type": "execute_result"
    }
   ],
   "source": [
    "new_dataset['Class'].value_counts()"
   ]
  },
  {
   "cell_type": "code",
   "execution_count": 21,
   "id": "b95733b2",
   "metadata": {},
   "outputs": [
    {
     "data": {
      "text/html": [
       "<div>\n",
       "<style scoped>\n",
       "    .dataframe tbody tr th:only-of-type {\n",
       "        vertical-align: middle;\n",
       "    }\n",
       "\n",
       "    .dataframe tbody tr th {\n",
       "        vertical-align: top;\n",
       "    }\n",
       "\n",
       "    .dataframe thead th {\n",
       "        text-align: right;\n",
       "    }\n",
       "</style>\n",
       "<table border=\"1\" class=\"dataframe\">\n",
       "  <thead>\n",
       "    <tr style=\"text-align: right;\">\n",
       "      <th></th>\n",
       "      <th>Time</th>\n",
       "      <th>V1</th>\n",
       "      <th>V2</th>\n",
       "      <th>V3</th>\n",
       "      <th>V4</th>\n",
       "      <th>V5</th>\n",
       "      <th>V6</th>\n",
       "      <th>V7</th>\n",
       "      <th>V8</th>\n",
       "      <th>V9</th>\n",
       "      <th>...</th>\n",
       "      <th>V20</th>\n",
       "      <th>V21</th>\n",
       "      <th>V22</th>\n",
       "      <th>V23</th>\n",
       "      <th>V24</th>\n",
       "      <th>V25</th>\n",
       "      <th>V26</th>\n",
       "      <th>V27</th>\n",
       "      <th>V28</th>\n",
       "      <th>Amount</th>\n",
       "    </tr>\n",
       "    <tr>\n",
       "      <th>Class</th>\n",
       "      <th></th>\n",
       "      <th></th>\n",
       "      <th></th>\n",
       "      <th></th>\n",
       "      <th></th>\n",
       "      <th></th>\n",
       "      <th></th>\n",
       "      <th></th>\n",
       "      <th></th>\n",
       "      <th></th>\n",
       "      <th></th>\n",
       "      <th></th>\n",
       "      <th></th>\n",
       "      <th></th>\n",
       "      <th></th>\n",
       "      <th></th>\n",
       "      <th></th>\n",
       "      <th></th>\n",
       "      <th></th>\n",
       "      <th></th>\n",
       "      <th></th>\n",
       "    </tr>\n",
       "  </thead>\n",
       "  <tbody>\n",
       "    <tr>\n",
       "      <th>0</th>\n",
       "      <td>97773.731501</td>\n",
       "      <td>-0.045089</td>\n",
       "      <td>-0.076944</td>\n",
       "      <td>-0.076474</td>\n",
       "      <td>-0.052720</td>\n",
       "      <td>0.031512</td>\n",
       "      <td>-0.029818</td>\n",
       "      <td>-0.060825</td>\n",
       "      <td>0.112390</td>\n",
       "      <td>0.008471</td>\n",
       "      <td>...</td>\n",
       "      <td>0.011952</td>\n",
       "      <td>0.006389</td>\n",
       "      <td>0.022968</td>\n",
       "      <td>0.011413</td>\n",
       "      <td>0.000465</td>\n",
       "      <td>0.025896</td>\n",
       "      <td>-0.000545</td>\n",
       "      <td>0.004937</td>\n",
       "      <td>0.008971</td>\n",
       "      <td>88.100634</td>\n",
       "    </tr>\n",
       "    <tr>\n",
       "      <th>1</th>\n",
       "      <td>80450.513742</td>\n",
       "      <td>-4.498280</td>\n",
       "      <td>3.405965</td>\n",
       "      <td>-6.729599</td>\n",
       "      <td>4.472591</td>\n",
       "      <td>-2.957197</td>\n",
       "      <td>-1.432518</td>\n",
       "      <td>-5.175912</td>\n",
       "      <td>0.953255</td>\n",
       "      <td>-2.522124</td>\n",
       "      <td>...</td>\n",
       "      <td>0.405043</td>\n",
       "      <td>0.466550</td>\n",
       "      <td>0.086639</td>\n",
       "      <td>-0.096464</td>\n",
       "      <td>-0.106643</td>\n",
       "      <td>0.040615</td>\n",
       "      <td>0.050456</td>\n",
       "      <td>0.213774</td>\n",
       "      <td>0.078270</td>\n",
       "      <td>123.871860</td>\n",
       "    </tr>\n",
       "  </tbody>\n",
       "</table>\n",
       "<p>2 rows × 30 columns</p>\n",
       "</div>"
      ],
      "text/plain": [
       "               Time        V1        V2        V3        V4        V5  \\\n",
       "Class                                                                   \n",
       "0      97773.731501 -0.045089 -0.076944 -0.076474 -0.052720  0.031512   \n",
       "1      80450.513742 -4.498280  3.405965 -6.729599  4.472591 -2.957197   \n",
       "\n",
       "             V6        V7        V8        V9  ...       V20       V21  \\\n",
       "Class                                          ...                       \n",
       "0     -0.029818 -0.060825  0.112390  0.008471  ...  0.011952  0.006389   \n",
       "1     -1.432518 -5.175912  0.953255 -2.522124  ...  0.405043  0.466550   \n",
       "\n",
       "            V22       V23       V24       V25       V26       V27       V28  \\\n",
       "Class                                                                         \n",
       "0      0.022968  0.011413  0.000465  0.025896 -0.000545  0.004937  0.008971   \n",
       "1      0.086639 -0.096464 -0.106643  0.040615  0.050456  0.213774  0.078270   \n",
       "\n",
       "           Amount  \n",
       "Class              \n",
       "0       88.100634  \n",
       "1      123.871860  \n",
       "\n",
       "[2 rows x 30 columns]"
      ]
     },
     "execution_count": 21,
     "metadata": {},
     "output_type": "execute_result"
    }
   ],
   "source": [
    "new_dataset.groupby('Class').mean()"
   ]
  },
  {
   "cell_type": "markdown",
   "id": "87125be5",
   "metadata": {},
   "source": [
    "Splitting the data into targets and features"
   ]
  },
  {
   "cell_type": "code",
   "execution_count": 22,
   "id": "f37dfde4",
   "metadata": {},
   "outputs": [],
   "source": [
    "X = new_dataset.drop(columns='Class', axis=1)\n",
    "Y = new_dataset['Class']"
   ]
  },
  {
   "cell_type": "code",
   "execution_count": 23,
   "id": "204a0639",
   "metadata": {},
   "outputs": [
    {
     "name": "stdout",
     "output_type": "stream",
     "text": [
      "            Time        V1        V2        V3        V4        V5        V6  \\\n",
      "78406    57511.0  1.264629 -0.212523  0.448531 -0.238811 -0.734429 -0.555945   \n",
      "123408   76915.0  1.265271 -0.189142  0.172729  0.008196 -0.288775 -0.247775   \n",
      "80458    58496.0 -0.769923  1.692726  1.040596  2.314980  0.771871  1.194325   \n",
      "283015  171312.0 -0.189767  0.110463  0.943858 -1.858640  0.021766 -1.061964   \n",
      "52707    45598.0 -0.405662  0.993962  1.075721  0.447830  0.106284 -0.515013   \n",
      "...          ...       ...       ...       ...       ...       ...       ...   \n",
      "279863  169142.0 -1.927883  1.125653 -4.518331  1.749293 -1.566487 -2.010494   \n",
      "280143  169347.0  1.378559  1.289381 -5.004247  1.411850  0.442581 -1.326536   \n",
      "280149  169351.0 -0.676143  1.126366 -2.213700  0.468308 -1.120541 -0.003346   \n",
      "281144  169966.0 -3.113832  0.585864 -5.399730  1.817092 -0.840618 -2.943548   \n",
      "281674  170348.0  1.991976  0.158476 -2.583441  0.408670  1.151147 -0.096695   \n",
      "\n",
      "              V7        V8        V9  ...       V20       V21       V22  \\\n",
      "78406  -0.444488  0.107403  0.436540  ... -0.163982 -0.125777 -0.470940   \n",
      "123408 -0.092912 -0.157616  0.647960  ...  0.076519 -0.138592 -0.151214   \n",
      "80458   0.828797 -0.818222 -2.042708  ...  0.027327  0.742252 -0.280914   \n",
      "283015  0.362214 -0.256478 -1.222870  ...  0.114878  0.300056  0.873610   \n",
      "52707   1.065113 -0.200866 -0.485375  ... -0.096668  0.085790  0.225689   \n",
      "...          ...       ...       ...  ...       ...       ...       ...   \n",
      "279863 -0.882850  0.697211 -2.064945  ...  1.252967  0.778584 -0.319189   \n",
      "280143 -1.413170  0.248525 -1.127396  ...  0.226138  0.370612  0.028234   \n",
      "280149 -2.234739  1.210158 -0.652250  ...  0.247968  0.751826  0.834108   \n",
      "281144 -2.208002  1.058733 -1.632333  ...  0.306271  0.583276 -0.269209   \n",
      "281674  0.223050 -0.068384  0.577829  ... -0.017652 -0.164350 -0.295135   \n",
      "\n",
      "             V23       V24       V25       V26       V27       V28  Amount  \n",
      "78406   0.067463  0.015496  0.069551  0.913555 -0.086766 -0.008219    0.92  \n",
      "123408 -0.203253 -0.319064  0.586308  1.156764 -0.065333 -0.000939   35.00  \n",
      "80458  -0.400340 -1.004544  0.496995  0.351555  0.021805  0.031332   77.52  \n",
      "283015 -0.215426  0.101118 -0.184154 -0.220611  0.140050  0.159459    3.95  \n",
      "52707  -0.204817  0.028458  0.301745 -0.356328 -0.068766  0.000958   60.58  \n",
      "...          ...       ...       ...       ...       ...       ...     ...  \n",
      "279863  0.639419 -0.294885  0.537503  0.788395  0.292680  0.147968  390.00  \n",
      "280143 -0.145640 -0.081049  0.521875  0.739467  0.389152  0.186637    0.76  \n",
      "280149  0.190944  0.032070 -0.739695  0.471111  0.385107  0.194361   77.89  \n",
      "281144 -0.456108 -0.183659 -0.328168  0.606116  0.884876 -0.253700  245.00  \n",
      "281674 -0.072173 -0.450261  0.313267 -0.289617  0.002988 -0.015309   42.53  \n",
      "\n",
      "[946 rows x 30 columns]\n"
     ]
    }
   ],
   "source": [
    "print(X)"
   ]
  },
  {
   "cell_type": "code",
   "execution_count": 24,
   "id": "ca5baf12",
   "metadata": {},
   "outputs": [
    {
     "name": "stdout",
     "output_type": "stream",
     "text": [
      "78406     0\n",
      "123408    0\n",
      "80458     0\n",
      "283015    0\n",
      "52707     0\n",
      "         ..\n",
      "279863    1\n",
      "280143    1\n",
      "280149    1\n",
      "281144    1\n",
      "281674    1\n",
      "Name: Class, Length: 946, dtype: int64\n"
     ]
    }
   ],
   "source": [
    "print(Y)"
   ]
  },
  {
   "cell_type": "markdown",
   "id": "93b443d8",
   "metadata": {},
   "source": [
    "Splitting the data into training data and testing data"
   ]
  },
  {
   "cell_type": "code",
   "execution_count": 25,
   "id": "d33d53cb",
   "metadata": {},
   "outputs": [],
   "source": [
    "X_train, X_test, Y_train, Y_test = train_test_split(X, Y, test_size=0.2, stratify=Y, random_state=2)"
   ]
  },
  {
   "cell_type": "code",
   "execution_count": 26,
   "id": "7af83698",
   "metadata": {},
   "outputs": [
    {
     "name": "stdout",
     "output_type": "stream",
     "text": [
      "(946, 30) (756, 30) (190, 30)\n"
     ]
    }
   ],
   "source": [
    "print(X.shape, X_train.shape, X_test.shape)"
   ]
  },
  {
   "cell_type": "markdown",
   "id": "1e6f8f67",
   "metadata": {},
   "source": [
    "Model Training"
   ]
  },
  {
   "cell_type": "code",
   "execution_count": 27,
   "id": "5f3ac59e",
   "metadata": {},
   "outputs": [],
   "source": [
    "model1 = LogisticRegression()"
   ]
  },
  {
   "cell_type": "code",
   "execution_count": 28,
   "id": "da692d82",
   "metadata": {},
   "outputs": [
    {
     "data": {
      "text/plain": [
       "LogisticRegression()"
      ]
     },
     "execution_count": 28,
     "metadata": {},
     "output_type": "execute_result"
    }
   ],
   "source": [
    "model1.fit(X_train, Y_train)"
   ]
  },
  {
   "cell_type": "markdown",
   "id": "1d7e4b67",
   "metadata": {},
   "source": [
    "Model Evaluation"
   ]
  },
  {
   "cell_type": "code",
   "execution_count": 29,
   "id": "e5e6506c",
   "metadata": {},
   "outputs": [],
   "source": [
    "X_train_prediction = model1.predict(X_train)\n",
    "training_data_accuracy = accuracy_score(X_train_prediction, Y_train)"
   ]
  },
  {
   "cell_type": "code",
   "execution_count": 30,
   "id": "bcdba0fa",
   "metadata": {},
   "outputs": [
    {
     "name": "stdout",
     "output_type": "stream",
     "text": [
      "Accuracy on Training data :  0.9470899470899471\n"
     ]
    }
   ],
   "source": [
    "print('Accuracy on Training data : ', training_data_accuracy)"
   ]
  },
  {
   "cell_type": "code",
   "execution_count": 31,
   "id": "2aef782b",
   "metadata": {},
   "outputs": [],
   "source": [
    "X_test_prediction = model1.predict(X_test)\n",
    "test_data_accuracy = accuracy_score(X_test_prediction, Y_test)"
   ]
  },
  {
   "cell_type": "code",
   "execution_count": 32,
   "id": "133c2bf1",
   "metadata": {},
   "outputs": [
    {
     "name": "stdout",
     "output_type": "stream",
     "text": [
      "Accuracy score on Test Data :  0.9157894736842105\n"
     ]
    }
   ],
   "source": [
    "print('Accuracy score on Test Data : ', test_data_accuracy)"
   ]
  },
  {
   "cell_type": "code",
   "execution_count": 33,
   "id": "09fc4caf",
   "metadata": {},
   "outputs": [
    {
     "name": "stdout",
     "output_type": "stream",
     "text": [
      "F1 score of the Logistic Regression model is: 0.9157894736842105\n"
     ]
    }
   ],
   "source": [
    "print('F1 score of the Logistic Regression model is: {}'.format(f1_score(X_test_prediction,Y_test)))"
   ]
  },
  {
   "cell_type": "code",
   "execution_count": 34,
   "id": "e482222d",
   "metadata": {},
   "outputs": [
    {
     "data": {
      "text/plain": [
       "array([[87,  8],\n",
       "       [ 8, 87]], dtype=int64)"
      ]
     },
     "execution_count": 34,
     "metadata": {},
     "output_type": "execute_result"
    }
   ],
   "source": [
    "confusion_matrix(Y_test, X_test_prediction, labels = [0, 1])"
   ]
  },
  {
   "cell_type": "code",
   "execution_count": 35,
   "id": "96777b88",
   "metadata": {},
   "outputs": [],
   "source": [
    "model2=DecisionTreeClassifier()"
   ]
  },
  {
   "cell_type": "code",
   "execution_count": 36,
   "id": "aadb24d2",
   "metadata": {},
   "outputs": [
    {
     "data": {
      "text/plain": [
       "DecisionTreeClassifier()"
      ]
     },
     "execution_count": 36,
     "metadata": {},
     "output_type": "execute_result"
    }
   ],
   "source": [
    "model2.fit(X_train, Y_train)"
   ]
  },
  {
   "cell_type": "code",
   "execution_count": 37,
   "id": "ec04e8bb",
   "metadata": {},
   "outputs": [],
   "source": [
    "X_train_prediction = model2.predict(X_train)\n",
    "training_data_accuracy = accuracy_score(X_train_prediction, Y_train)"
   ]
  },
  {
   "cell_type": "code",
   "execution_count": 38,
   "id": "15c78290",
   "metadata": {},
   "outputs": [
    {
     "name": "stdout",
     "output_type": "stream",
     "text": [
      "Accuracy on Training data :  1.0\n"
     ]
    }
   ],
   "source": [
    "print('Accuracy on Training data : ', training_data_accuracy)"
   ]
  },
  {
   "cell_type": "code",
   "execution_count": 39,
   "id": "a76fbf2c",
   "metadata": {},
   "outputs": [],
   "source": [
    "X_test_prediction = model2.predict(X_test)\n",
    "test_data_accuracy = accuracy_score(X_test_prediction, Y_test)"
   ]
  },
  {
   "cell_type": "code",
   "execution_count": 40,
   "id": "5cfa870a",
   "metadata": {},
   "outputs": [
    {
     "name": "stdout",
     "output_type": "stream",
     "text": [
      "Accuracy score on Test Data :  0.9105263157894737\n"
     ]
    }
   ],
   "source": [
    "print('Accuracy score on Test Data : ', test_data_accuracy)"
   ]
  },
  {
   "cell_type": "code",
   "execution_count": 41,
   "id": "c449a053",
   "metadata": {},
   "outputs": [
    {
     "name": "stdout",
     "output_type": "stream",
     "text": [
      "F1 score of the Decision Tree model is: 0.91005291005291\n"
     ]
    }
   ],
   "source": [
    "print('F1 score of the Decision Tree model is: {}'.format(f1_score(X_test_prediction,Y_test)))"
   ]
  },
  {
   "cell_type": "code",
   "execution_count": 42,
   "id": "262a553a",
   "metadata": {},
   "outputs": [
    {
     "data": {
      "text/plain": [
       "array([[87,  8],\n",
       "       [ 9, 86]], dtype=int64)"
      ]
     },
     "execution_count": 42,
     "metadata": {},
     "output_type": "execute_result"
    }
   ],
   "source": [
    "confusion_matrix(Y_test, X_test_prediction, labels = [0, 1])"
   ]
  },
  {
   "cell_type": "code",
   "execution_count": 43,
   "id": "188be973",
   "metadata": {},
   "outputs": [],
   "source": [
    "\n",
    "model3=RandomForestClassifier()\n"
   ]
  },
  {
   "cell_type": "code",
   "execution_count": 44,
   "id": "f218104e",
   "metadata": {},
   "outputs": [
    {
     "data": {
      "text/plain": [
       "RandomForestClassifier()"
      ]
     },
     "execution_count": 44,
     "metadata": {},
     "output_type": "execute_result"
    }
   ],
   "source": [
    "model3.fit(X_train, Y_train)"
   ]
  },
  {
   "cell_type": "code",
   "execution_count": 45,
   "id": "9ef1929f",
   "metadata": {},
   "outputs": [],
   "source": [
    "X_train_prediction = model3.predict(X_train)\n",
    "training_data_accuracy = accuracy_score(X_train_prediction, Y_train)"
   ]
  },
  {
   "cell_type": "code",
   "execution_count": 46,
   "id": "ef85bb61",
   "metadata": {},
   "outputs": [
    {
     "name": "stdout",
     "output_type": "stream",
     "text": [
      "Accuracy on Training data :  1.0\n"
     ]
    }
   ],
   "source": [
    "print('Accuracy on Training data : ', training_data_accuracy)"
   ]
  },
  {
   "cell_type": "code",
   "execution_count": 47,
   "id": "93d7fab3",
   "metadata": {},
   "outputs": [],
   "source": [
    "X_test_prediction = model3.predict(X_test)\n",
    "test_data_accuracy = accuracy_score(X_test_prediction, Y_test)"
   ]
  },
  {
   "cell_type": "code",
   "execution_count": 48,
   "id": "e71c4fba",
   "metadata": {},
   "outputs": [
    {
     "name": "stdout",
     "output_type": "stream",
     "text": [
      "Accuracy score on Test Data :  0.9421052631578948\n"
     ]
    }
   ],
   "source": [
    "print('Accuracy score on Test Data : ', test_data_accuracy)"
   ]
  },
  {
   "cell_type": "code",
   "execution_count": 49,
   "id": "74de547a",
   "metadata": {},
   "outputs": [
    {
     "name": "stdout",
     "output_type": "stream",
     "text": [
      "F1 score of the Random Forest model is: 0.9392265193370165\n"
     ]
    }
   ],
   "source": [
    "print('F1 score of the Random Forest model is: {}'.format(f1_score(X_test_prediction,Y_test)))"
   ]
  },
  {
   "cell_type": "code",
   "execution_count": 50,
   "id": "29c768f0",
   "metadata": {},
   "outputs": [
    {
     "data": {
      "text/plain": [
       "array([[94,  1],\n",
       "       [10, 85]], dtype=int64)"
      ]
     },
     "execution_count": 50,
     "metadata": {},
     "output_type": "execute_result"
    }
   ],
   "source": [
    "confusion_matrix(Y_test, X_test_prediction, labels = [0, 1])"
   ]
  },
  {
   "cell_type": "code",
   "execution_count": 51,
   "id": "613b7516",
   "metadata": {},
   "outputs": [],
   "source": [
    "n=5\n",
    "model4=KNeighborsClassifier(n_neighbors=5)"
   ]
  },
  {
   "cell_type": "code",
   "execution_count": 52,
   "id": "726338ed",
   "metadata": {},
   "outputs": [
    {
     "data": {
      "text/plain": [
       "KNeighborsClassifier()"
      ]
     },
     "execution_count": 52,
     "metadata": {},
     "output_type": "execute_result"
    }
   ],
   "source": [
    "model4.fit(X_train,Y_train)"
   ]
  },
  {
   "cell_type": "code",
   "execution_count": 53,
   "id": "277464d2",
   "metadata": {},
   "outputs": [],
   "source": [
    "X_train_prediction = model4.predict(X_train)\n",
    "training_data_accuracy = accuracy_score(X_train_prediction, Y_train)"
   ]
  },
  {
   "cell_type": "code",
   "execution_count": 54,
   "id": "9705f179",
   "metadata": {},
   "outputs": [
    {
     "name": "stdout",
     "output_type": "stream",
     "text": [
      "Accuracy score on Training Data :  0.7645502645502645\n"
     ]
    }
   ],
   "source": [
    "print('Accuracy score on Training Data : ', training_data_accuracy)"
   ]
  },
  {
   "cell_type": "code",
   "execution_count": 55,
   "id": "b0d7832e",
   "metadata": {},
   "outputs": [],
   "source": [
    "X_test_prediction = model4.predict(X_test)\n",
    "test_data_accuracy = accuracy_score(X_test_prediction,Y_test)"
   ]
  },
  {
   "cell_type": "code",
   "execution_count": 56,
   "id": "c100f666",
   "metadata": {},
   "outputs": [
    {
     "name": "stdout",
     "output_type": "stream",
     "text": [
      "Accuracy score on Test Data :  0.7105263157894737\n"
     ]
    }
   ],
   "source": [
    "print('Accuracy score on Test Data : ', test_data_accuracy)"
   ]
  },
  {
   "cell_type": "code",
   "execution_count": 57,
   "id": "4bba7011",
   "metadata": {},
   "outputs": [
    {
     "name": "stdout",
     "output_type": "stream",
     "text": [
      "F1 score of the KNN model is: 0.7150259067357513\n"
     ]
    }
   ],
   "source": [
    "print('F1 score of the KNN model is: {}'.format(f1_score(X_test_prediction,Y_test)))"
   ]
  },
  {
   "cell_type": "code",
   "execution_count": 58,
   "id": "917e8cb3",
   "metadata": {},
   "outputs": [
    {
     "data": {
      "text/plain": [
       "array([[66, 29],\n",
       "       [26, 69]], dtype=int64)"
      ]
     },
     "execution_count": 58,
     "metadata": {},
     "output_type": "execute_result"
    }
   ],
   "source": [
    "confusion_matrix(Y_test, X_test_prediction, labels = [0, 1])"
   ]
  },
  {
   "cell_type": "code",
   "execution_count": 59,
   "id": "c6f2ed0a",
   "metadata": {},
   "outputs": [],
   "source": [
    "n=7\n",
    "model5=KNeighborsClassifier(n_neighbors=7)"
   ]
  },
  {
   "cell_type": "code",
   "execution_count": 60,
   "id": "736c82b3",
   "metadata": {},
   "outputs": [
    {
     "data": {
      "text/plain": [
       "KNeighborsClassifier(n_neighbors=7)"
      ]
     },
     "execution_count": 60,
     "metadata": {},
     "output_type": "execute_result"
    }
   ],
   "source": [
    "model5.fit(X_train, Y_train)"
   ]
  },
  {
   "cell_type": "code",
   "execution_count": 61,
   "id": "6f6dd292",
   "metadata": {},
   "outputs": [],
   "source": [
    "X_train_prediction = model5.predict(X_train)\n",
    "training_data_accuracy = accuracy_score(X_train_prediction, Y_train)"
   ]
  },
  {
   "cell_type": "code",
   "execution_count": 62,
   "id": "9eb53e63",
   "metadata": {},
   "outputs": [
    {
     "name": "stdout",
     "output_type": "stream",
     "text": [
      "Accuracy on Training data :  0.7301587301587301\n"
     ]
    }
   ],
   "source": [
    "print('Accuracy on Training data : ', training_data_accuracy)"
   ]
  },
  {
   "cell_type": "code",
   "execution_count": 63,
   "id": "46e726ef",
   "metadata": {},
   "outputs": [],
   "source": [
    "X_test_prediction = model5.predict(X_test)\n",
    "test_data_accuracy = accuracy_score(Y_test,X_test_prediction)"
   ]
  },
  {
   "cell_type": "code",
   "execution_count": 64,
   "id": "82cf29d7",
   "metadata": {},
   "outputs": [
    {
     "name": "stdout",
     "output_type": "stream",
     "text": [
      "Accuracy score on Test Data :  0.7052631578947368\n"
     ]
    }
   ],
   "source": [
    "print('Accuracy score on Test Data : ', test_data_accuracy)"
   ]
  },
  {
   "cell_type": "code",
   "execution_count": 65,
   "id": "92ac4085",
   "metadata": {},
   "outputs": [
    {
     "name": "stdout",
     "output_type": "stream",
     "text": [
      "F1 score of the KNN model is: 0.7021276595744681\n"
     ]
    }
   ],
   "source": [
    "print('F1 score of the KNN model is: {}'.format(f1_score(X_test_prediction,Y_test)))"
   ]
  },
  {
   "cell_type": "code",
   "execution_count": 66,
   "id": "d56ac074",
   "metadata": {},
   "outputs": [
    {
     "data": {
      "text/plain": [
       "array([[68, 27],\n",
       "       [29, 66]], dtype=int64)"
      ]
     },
     "execution_count": 66,
     "metadata": {},
     "output_type": "execute_result"
    }
   ],
   "source": [
    "confusion_matrix(Y_test, X_test_prediction, labels = [0, 1])"
   ]
  },
  {
   "cell_type": "code",
   "execution_count": 67,
   "id": "5661f6e0",
   "metadata": {},
   "outputs": [],
   "source": [
    "model6=SVC()"
   ]
  },
  {
   "cell_type": "code",
   "execution_count": 68,
   "id": "307d56e7",
   "metadata": {},
   "outputs": [
    {
     "data": {
      "text/plain": [
       "SVC()"
      ]
     },
     "execution_count": 68,
     "metadata": {},
     "output_type": "execute_result"
    }
   ],
   "source": [
    "model6.fit(X_train, Y_train)"
   ]
  },
  {
   "cell_type": "code",
   "execution_count": 69,
   "id": "2b33b608",
   "metadata": {},
   "outputs": [],
   "source": [
    "X_train_prediction = model6.predict(X_train)\n",
    "training_data_accuracy = accuracy_score(X_train_prediction, Y_train)"
   ]
  },
  {
   "cell_type": "code",
   "execution_count": 70,
   "id": "5cbd1756",
   "metadata": {},
   "outputs": [
    {
     "name": "stdout",
     "output_type": "stream",
     "text": [
      "Accuracy on Training data :  0.5357142857142857\n"
     ]
    }
   ],
   "source": [
    "print('Accuracy on Training data : ', training_data_accuracy)"
   ]
  },
  {
   "cell_type": "code",
   "execution_count": 71,
   "id": "d39b3095",
   "metadata": {},
   "outputs": [],
   "source": [
    "X_test_prediction = model6.predict(X_test)\n",
    "test_data_accuracy = accuracy_score(X_test_prediction, Y_test)\n"
   ]
  },
  {
   "cell_type": "code",
   "execution_count": 72,
   "id": "7a0bd1fa",
   "metadata": {},
   "outputs": [
    {
     "name": "stdout",
     "output_type": "stream",
     "text": [
      "Accuracy score on Test Data :  0.5526315789473685\n"
     ]
    }
   ],
   "source": [
    "print('Accuracy score on Test Data : ', test_data_accuracy)"
   ]
  },
  {
   "cell_type": "code",
   "execution_count": 73,
   "id": "83b54348",
   "metadata": {},
   "outputs": [
    {
     "name": "stdout",
     "output_type": "stream",
     "text": [
      "F1 score of the SVM model is: 0.5641025641025641\n"
     ]
    }
   ],
   "source": [
    "print('F1 score of the SVM model is: {}'.format(f1_score(X_test_prediction,Y_test)))"
   ]
  },
  {
   "cell_type": "code",
   "execution_count": 74,
   "id": "24b8ccc5",
   "metadata": {},
   "outputs": [
    {
     "data": {
      "text/plain": [
       "array([[50, 45],\n",
       "       [40, 55]], dtype=int64)"
      ]
     },
     "execution_count": 74,
     "metadata": {},
     "output_type": "execute_result"
    }
   ],
   "source": [
    "confusion_matrix(Y_test, X_test_prediction, labels = [0, 1])"
   ]
  },
  {
   "cell_type": "markdown",
   "id": "29912fb1",
   "metadata": {},
   "source": [
    "Building a predictive model"
   ]
  },
  {
   "cell_type": "code",
   "execution_count": 75,
   "id": "e9f8a492",
   "metadata": {},
   "outputs": [
    {
     "name": "stdout",
     "output_type": "stream",
     "text": [
      "[0]\n",
      "Normal transaction\n"
     ]
    }
   ],
   "source": [
    "input_data=(0,1.191857111,0.266150712,0.166480113,0.448154078,0.060017649,-0.082360809,-0.078802983,0.085101655,-0.255425128,-0.166974414,1.612726661,1.065235311,0.489095016,-0.143772296,0.635558093,0.463917041,-0.114804663,-0.18336127,-0.145783041,-0.069083135,-0.225775248,-0.638671953,0.101288021,-0.339846476,0.167170404,0.125894532,-0.008983099,0.014724169,2.69)\n",
    "\n",
    "#change the input data to a numpy array\n",
    "input_data_as_numpy_array=np.asarray(input_data)\n",
    "#reshape the numpy array as we are predicting for only one instance\n",
    "input_data_reshaped=input_data_as_numpy_array.reshape(1,-1)\n",
    "prediction=model3.predict(input_data_reshaped)\n",
    "print(prediction)\n",
    "if(prediction[0]==0):\n",
    "    print('Normal transaction')\n",
    "else:\n",
    "    print('Fraudulent transaction')"
   ]
  },
  {
   "cell_type": "code",
   "execution_count": 76,
   "id": "cf2d0849",
   "metadata": {},
   "outputs": [
    {
     "name": "stdout",
     "output_type": "stream",
     "text": [
      "[1]\n",
      "Fraudulent transaction\n"
     ]
    }
   ],
   "source": [
    "input_data=(472,-3.043540624,-3.157307121,1.08846278,2.288643618,1.35980513,-1.064822523,0.325574266,-0.067793653,-0.270952836,-0.838586565,-0.414575448,-0.50314086,0.676501545,-1.692028933,2.000634839,0.666779696,0.599717414,1.725321007,0.28334483,2.102338793,0.661695925,0.435477209,1.375965743,-0.293803153,0.279798032,-0.145361715,-0.252773123,0.035764225,529)\n",
    "#change the input data to a numpy array\n",
    "input_data_as_numpy_array=np.asarray(input_data)\n",
    "#reshape the numpy array as we are predicting for only one instance\n",
    "input_data_reshaped=input_data_as_numpy_array.reshape(1,-1)\n",
    "prediction=model3.predict(input_data_reshaped)\n",
    "print(prediction)\n",
    "if(prediction[0]==0):\n",
    "    print('Normal transaction')\n",
    "else:\n",
    "    print('Fraudulent transaction')"
   ]
  },
  {
   "cell_type": "code",
   "execution_count": null,
   "id": "46bcaf3a",
   "metadata": {},
   "outputs": [],
   "source": []
  }
 ],
 "metadata": {
  "kernelspec": {
   "display_name": "Python 3 (ipykernel)",
   "language": "python",
   "name": "python3"
  },
  "language_info": {
   "codemirror_mode": {
    "name": "ipython",
    "version": 3
   },
   "file_extension": ".py",
   "mimetype": "text/x-python",
   "name": "python",
   "nbconvert_exporter": "python",
   "pygments_lexer": "ipython3",
   "version": "3.9.13"
  }
 },
 "nbformat": 4,
 "nbformat_minor": 5
}
